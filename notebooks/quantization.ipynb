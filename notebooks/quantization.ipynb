{
 "cells": [
  {
   "cell_type": "markdown",
   "metadata": {},
   "source": [
    "### **Quantization steps**"
   ]
  },
  {
   "cell_type": "code",
   "execution_count": null,
   "metadata": {},
   "outputs": [],
   "source": [
    "import torch.ao.quantization.quantize_fx as quantize_fx\n",
    "from tinynn.graph.quantization.quantizer import QATQuantizer\n",
    "\n",
    "from src.models.unet_module import UNETLitModule"
   ]
  },
  {
   "cell_type": "code",
   "execution_count": null,
   "metadata": {},
   "outputs": [],
   "source": [
    "model_ckpt = \"./net/tscratch/people/plgkzaleska/ennca/depth-estimation-with-compression/logs/train/runs/2024-05-31_03-13-02/checkpoints/epoch_009.ckpt\""
   ]
  },
  {
   "cell_type": "code",
   "execution_count": null,
   "metadata": {},
   "outputs": [],
   "source": [
    "model = UNETLitModule.load_from_checkpoint(model_ckpt)"
   ]
  }
 ],
 "metadata": {
  "language_info": {
   "name": "python"
  }
 },
 "nbformat": 4,
 "nbformat_minor": 2
}
