{
 "cells": [
  {
   "cell_type": "code",
   "execution_count": null,
   "metadata": {},
   "outputs": [],
   "source": [
    "import torch\n",
    "import torch.nn as nn\n",
    "import torchvision\n",
    "from torch.nn import functional as F"
   ]
  },
  {
   "cell_type": "markdown",
   "metadata": {},
   "source": [
    "**EffcientNetB0 as encoder**"
   ]
  },
  {
   "cell_type": "code",
   "execution_count": null,
   "metadata": {},
   "outputs": [],
   "source": [
    "class EfficientNet(nn.Module):\n",
    "    def __init__(self):\n",
    "        super(EfficientNet, self).__init__()\n",
    "        efficientnet = torchvision.models.efficientnet_b0()\n",
    "        features = efficientnet.features\n",
    "        self.layer1 = features[:3]\n",
    "        self.layer2 = features[3]\n",
    "        self.layer3 = features[4]\n",
    "\n",
    "    def forward(self, x):\n",
    "        x1 = self.layer1(x)\n",
    "        x2 = self.layer2(x1)\n",
    "        x3 = self.layer3(x2)\n",
    "        return x1, x2, x3"
   ]
  },
  {
   "cell_type": "code",
   "execution_count": null,
   "metadata": {},
   "outputs": [],
   "source": [
    "efficientnet = EfficientNet()"
   ]
  },
  {
   "cell_type": "code",
   "execution_count": null,
   "metadata": {},
   "outputs": [],
   "source": [
    "input_size = (3, 224, 224)\n",
    "\n",
    "input_tensor = torch.randn(1, *input_size)"
   ]
  },
  {
   "cell_type": "code",
   "execution_count": null,
   "metadata": {},
   "outputs": [],
   "source": [
    "output = efficientnet(input_tensor)\n",
    "\n",
    "output[0].shape, output[1].shape, output[2].shape"
   ]
  },
  {
   "cell_type": "markdown",
   "metadata": {},
   "source": [
    "**FFN as decoder**"
   ]
  },
  {
   "cell_type": "code",
   "execution_count": null,
   "metadata": {},
   "outputs": [],
   "source": [
    "BN_MOMENTUM = 0.1\n",
    "gpu_up_kwargs = {\"mode\": \"bilinear\", \"align_corners\": True}\n",
    "mobile_up_kwargs = {\"mode\": \"nearest\"}\n",
    "relu_inplace = True"
   ]
  },
  {
   "cell_type": "code",
   "execution_count": null,
   "metadata": {},
   "outputs": [],
   "source": [
    "class ConvBNReLU(nn.Module):\n",
    "    def __init__(\n",
    "        self,\n",
    "        in_chan,\n",
    "        out_chan,\n",
    "        ks=3,\n",
    "        stride=1,\n",
    "        padding=1,\n",
    "        activation=nn.ReLU,\n",
    "        *args,\n",
    "        **kwargs,\n",
    "    ):\n",
    "        super(ConvBNReLU, self).__init__()\n",
    "        layers = [\n",
    "            nn.Conv2d(\n",
    "                in_chan,\n",
    "                out_chan,\n",
    "                kernel_size=ks,\n",
    "                stride=stride,\n",
    "                padding=padding,\n",
    "                bias=False,\n",
    "            ),\n",
    "            nn.BatchNorm2d(out_chan, momentum=BN_MOMENTUM),\n",
    "        ]\n",
    "        if activation:\n",
    "            layers.append(activation(inplace=relu_inplace))\n",
    "        self.layers = nn.Sequential(*layers)\n",
    "\n",
    "    def forward(self, x):\n",
    "        return self.layers(x)"
   ]
  },
  {
   "cell_type": "code",
   "execution_count": null,
   "metadata": {},
   "outputs": [],
   "source": [
    "class AdapterConv(nn.Module):\n",
    "    def __init__(self, in_channels=[256, 512, 1024, 2048], out_channels=[64, 128, 256, 512]):\n",
    "        super(AdapterConv, self).__init__()\n",
    "        assert len(in_channels) == len(\n",
    "            out_channels\n",
    "        ), \"Number of input and output branches should match\"\n",
    "        self.adapter_conv = nn.ModuleList()\n",
    "\n",
    "        for k in range(len(in_channels)):\n",
    "            self.adapter_conv.append(\n",
    "                ConvBNReLU(in_channels[k], out_channels[k], ks=1, stride=1, padding=0),\n",
    "            )\n",
    "\n",
    "    def forward(self, x):\n",
    "        out = []\n",
    "        for k in range(len(self.adapter_conv)):\n",
    "            out.append(self.adapter_conv[k](x[k]))\n",
    "        return out"
   ]
  },
  {
   "cell_type": "code",
   "execution_count": null,
   "metadata": {},
   "outputs": [],
   "source": [
    "class UpsampleCat(nn.Module):\n",
    "    def __init__(self, upsample_kwargs=gpu_up_kwargs):\n",
    "        super(UpsampleCat, self).__init__()\n",
    "        self._up_kwargs = upsample_kwargs\n",
    "\n",
    "    def forward(self, x):\n",
    "        \"\"\"Upsample and concatenate feature maps.\"\"\"\n",
    "        assert isinstance(x, list) or isinstance(x, tuple)\n",
    "        # print(self._up_kwargs)\n",
    "        x0 = x[0]\n",
    "        _, _, H, W = x0.size()\n",
    "        for i in range(1, len(x)):\n",
    "            x0 = torch.cat([x0, F.interpolate(x[i], (H, W), **self._up_kwargs)], dim=1)\n",
    "        return x0"
   ]
  },
  {
   "cell_type": "code",
   "execution_count": null,
   "metadata": {},
   "outputs": [],
   "source": [
    "class UpBranch(nn.Module):\n",
    "    def __init__(\n",
    "        self,\n",
    "        in_channels=[64, 128, 256],\n",
    "        out_channels=[128, 128, 128],\n",
    "        upsample_kwargs=gpu_up_kwargs,\n",
    "    ):\n",
    "        super(UpBranch, self).__init__()\n",
    "\n",
    "        self._up_kwargs = upsample_kwargs\n",
    "\n",
    "        self.fam_32_sm = ConvBNReLU(in_channels[2], out_channels[2], ks=3, stride=1, padding=1)\n",
    "        self.fam_32_up = ConvBNReLU(in_channels[2], in_channels[1], ks=1, stride=1, padding=0)\n",
    "        self.fam_16_sm = ConvBNReLU(in_channels[1], out_channels[0], ks=3, stride=1, padding=1)\n",
    "        self.fam_16_up = ConvBNReLU(in_channels[1], in_channels[0], ks=1, stride=1, padding=0)\n",
    "        self.fam_8_sm = ConvBNReLU(in_channels[0], out_channels[0], ks=3, stride=1, padding=1)\n",
    "        # self.fam_8_up = ConvBNReLU(\n",
    "        #     in_channels[1], in_channels[0], ks=1, stride=1, padding=0\n",
    "        # )\n",
    "        # self.fam_4 = ConvBNReLU(\n",
    "        #     in_channels[0], out_channels[0], ks=3, stride=1, padding=1\n",
    "        # )\n",
    "\n",
    "        self.high_level_ch = sum(out_channels)\n",
    "        self.out_channels = out_channels\n",
    "\n",
    "    def forward(self, x):\n",
    "\n",
    "        feat8, feat16, feat32 = x\n",
    "\n",
    "        smfeat_32 = self.fam_32_sm(feat32)\n",
    "        upfeat_32 = self.fam_32_up(feat32)\n",
    "\n",
    "        _, _, H, W = feat16.size()\n",
    "        x = F.interpolate(upfeat_32, (H, W), **self._up_kwargs) + feat16\n",
    "        smfeat_16 = self.fam_16_sm(x)\n",
    "        upfeat_16 = self.fam_16_up(x)\n",
    "\n",
    "        _, _, H, W = feat8.size()\n",
    "        x = F.interpolate(upfeat_16, (H, W), **self._up_kwargs) + feat8\n",
    "        smfeat_8 = self.fam_8_sm(x)\n",
    "        # upfeat_8 = self.fam_8_up(x)\n",
    "\n",
    "        # _, _, H, W = feat4.size()\n",
    "        # smfeat_4 = self.fam_4(\n",
    "        #     F.interpolate(upfeat_8, (H, W), **self._up_kwargs) + feat4\n",
    "        # )\n",
    "\n",
    "        return smfeat_8, smfeat_16, smfeat_32"
   ]
  },
  {
   "cell_type": "code",
   "execution_count": null,
   "metadata": {},
   "outputs": [],
   "source": [
    "class UpHeadA(nn.Module):\n",
    "    def __init__(\n",
    "        self,\n",
    "        in_chans,\n",
    "        base_chans=[64, 128, 256],\n",
    "        upsample_kwargs=gpu_up_kwargs,\n",
    "    ):\n",
    "        layers = []\n",
    "        super().__init__()\n",
    "        layers.append(AdapterConv(in_chans, base_chans))\n",
    "        in_chans = base_chans[:]\n",
    "        layers.append(UpBranch(in_chans))\n",
    "        layers.append(UpsampleCat(upsample_kwargs))\n",
    "        self.layers = nn.Sequential(*layers)\n",
    "\n",
    "    def forward(self, x):\n",
    "        return self.layers(x)"
   ]
  },
  {
   "cell_type": "code",
   "execution_count": null,
   "metadata": {},
   "outputs": [],
   "source": [
    "c1 = torch.randn([1, 24, 56, 56])\n",
    "c2 = torch.randn([1, 40, 28, 28])\n",
    "c3 = torch.randn([1, 80, 14, 14])"
   ]
  },
  {
   "cell_type": "code",
   "execution_count": null,
   "metadata": {},
   "outputs": [],
   "source": [
    "up_head_a = UpHeadA([24, 40, 80])\n",
    "\n",
    "out_A = up_head_a([c1, c2, c3])\n",
    "print(\"output A: \", out_A.shape)"
   ]
  },
  {
   "cell_type": "markdown",
   "metadata": {},
   "source": [
    "**EffcientNetB0 + FFN**"
   ]
  },
  {
   "cell_type": "code",
   "execution_count": null,
   "metadata": {},
   "outputs": [],
   "source": [
    "class EfficientNetFPN(nn.Module):\n",
    "    def __init__(self):\n",
    "        super().__init__()\n",
    "        self.encoder = EfficientNet()\n",
    "        self.decoder = UpHeadA([24, 40, 80])\n",
    "        self.final_conv = nn.Conv2d(in_channels=384, out_channels=1, kernel_size=3, padding=\"same\")\n",
    "\n",
    "    def forward(self, x):\n",
    "        x1, x2, x3 = self.encoder(x)\n",
    "        x = self.decoder([x1, x2, x3])\n",
    "        x = self.final_conv(x)\n",
    "        return x"
   ]
  },
  {
   "cell_type": "code",
   "execution_count": null,
   "metadata": {},
   "outputs": [],
   "source": [
    "efficientnet_fpn = EfficientNetFPN()"
   ]
  },
  {
   "cell_type": "code",
   "execution_count": null,
   "metadata": {},
   "outputs": [],
   "source": [
    "efficientnet_fpn(input_tensor).shape"
   ]
  }
 ],
 "metadata": {
  "kernelspec": {
   "display_name": "venv",
   "language": "python",
   "name": "python3"
  },
  "language_info": {
   "codemirror_mode": {
    "name": "ipython",
    "version": 3
   },
   "file_extension": ".py",
   "mimetype": "text/x-python",
   "name": "python",
   "nbconvert_exporter": "python",
   "pygments_lexer": "ipython3",
   "version": "3.11.3"
  }
 },
 "nbformat": 4,
 "nbformat_minor": 2
}
